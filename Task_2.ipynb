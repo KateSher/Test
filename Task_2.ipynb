{
  "nbformat": 4,
  "nbformat_minor": 0,
  "metadata": {
    "colab": {
      "name": "тестовая задача 2.ipynb",
      "provenance": []
    },
    "kernelspec": {
      "name": "python3",
      "display_name": "Python 3"
    },
    "language_info": {
      "name": "python"
    }
  },
  "cells": [
    {
      "cell_type": "code",
      "metadata": {
        "colab": {
          "base_uri": "https://localhost:8080/"
        },
        "id": "CivAnCit9PPu",
        "outputId": "7d0f01cc-0ddd-46ad-f51a-8276379bbe33"
      },
      "source": [
        "a = 3.1\n",
        "b = 10.3\n",
        "c = -2.8\n",
        "d = 10.3\n",
        "max = -1000000\n",
        "min = 1000000\n",
        "x = -4\n",
        "def extremum(a, b, c, d, x, max, min):\n",
        "    while x <= 1:   \n",
        "        f = a * x**3 + b * x**2  + c * x + d    \n",
        "        if f > max:\n",
        "            max = f\n",
        "            x_max = x       \n",
        "        if f < min:\n",
        "            min = f\n",
        "            x_min = x\n",
        "        x = x + 0.0001    \n",
        "    print('x_max =', x_max)\n",
        "    print('x_min =', x_min)\n",
        "    print('maximum =', max)\n",
        "    print('minimum =', min)\n",
        "print ('1:')\n",
        "extremum(a, b, c, d, x, max, min)\n",
        "print ('2:')\n",
        "a = 2.1\n",
        "b = 8.8\n",
        "c = -11.4\n",
        "d = -5.6\n",
        "extremum(a, b, c, d, x, max, min)\n",
        "print ('3:')\n",
        "a = 1.6\n",
        "b = 0.2\n",
        "c = -20.8\n",
        "d = 38.5\n",
        "extremum(a, b, c, d, x, max, min)  "
      ],
      "execution_count": null,
      "outputs": [
        {
          "output_type": "stream",
          "name": "stdout",
          "text": [
            "1:\n",
            "x_max = -2.3434999999965043\n",
            "x_min = -4\n",
            "maximum = 33.5308202775875\n",
            "minimum = -12.099999999999994\n",
            "2:\n",
            "x_max = -3.336099999998599\n",
            "x_min = 0.542400000003973\n",
            "maximum = 52.400091015749894\n",
            "minimum = -8.859316695449602\n",
            "3:\n",
            "x_max = -2.1236999999960404\n",
            "x_min = 0.9999000000039227\n",
            "maximum = 68.25001560351521\n",
            "minimum = 19.5015600499372\n"
          ]
        }
      ]
    }
  ]
}